{
 "cells": [
  {
   "cell_type": "code",
   "execution_count": 2,
   "id": "d4957afb-8cc5-465b-8e9e-1804ba44d4e9",
   "metadata": {},
   "outputs": [],
   "source": [
    "from decouple import config"
   ]
  },
  {
   "cell_type": "code",
   "execution_count": 3,
   "id": "1f74130d-3b15-43c0-bc71-1b59f2a90f9c",
   "metadata": {},
   "outputs": [],
   "source": [
    "assert config(\"ALPHA_VANTAGE_API_KEY\", default=None, cast=str) is not None"
   ]
  },
  {
   "cell_type": "code",
   "execution_count": 4,
   "id": "b1ee9804-9dcc-4a67-a3bc-c187c5f37fe2",
   "metadata": {},
   "outputs": [],
   "source": [
    "ALPHA_VANTAGE_API_KEY=config(\"ALPHA_VANTAGE_API_KEY\", default=None, cast=str)"
   ]
  },
  {
   "cell_type": "code",
   "execution_count": 5,
   "id": "d6f72391-0fe1-4329-8d4e-0fe46c43a288",
   "metadata": {},
   "outputs": [
    {
     "name": "stdout",
     "output_type": "stream",
     "text": [
      "{'Meta Data': {'1. Information': 'Intraday (1min) open, high, low, close prices and volume', '2. Symbol': 'AAPL', '3. Last Refreshed': '2024-11-22 19:59:00', '4. Interval': '1min', '5. Output Size': 'Compact', '6. Time Zone': 'US/Eastern'}, 'Time Series (1min)': {'2024-11-22 19:59:00': {'1. open': '229.9350', '2. high': '229.9500', '3. low': '229.9200', '4. close': '229.9350', '5. volume': '169'}, '2024-11-22 19:58:00': {'1. open': '229.9400', '2. high': '229.9500', '3. low': '229.9120', '4. close': '229.9250', '5. volume': '127'}, '2024-11-22 19:57:00': {'1. open': '229.9000', '2. high': '229.9400', '3. low': '229.9000', '4. close': '229.9250', '5. volume': '23'}, '2024-11-22 19:56:00': {'1. open': '229.9300', '2. high': '229.9500', '3. low': '229.9000', '4. close': '229.9200', '5. volume': '1009'}, '2024-11-22 19:55:00': {'1. open': '229.9250', '2. high': '229.9500', '3. low': '229.9000', '4. close': '229.9200', '5. volume': '49'}, '2024-11-22 19:54:00': {'1. open': '229.9500', '2. high': '229.9500', '3. low': '229.9000', '4. close': '229.9300', '5. volume': '73'}, '2024-11-22 19:53:00': {'1. open': '229.9300', '2. high': '229.9900', '3. low': '229.9000', '4. close': '229.9900', '5. volume': '548'}, '2024-11-22 19:52:00': {'1. open': '229.9100', '2. high': '229.9350', '3. low': '229.9100', '4. close': '229.9350', '5. volume': '11'}, '2024-11-22 19:51:00': {'1. open': '229.9400', '2. high': '229.9400', '3. low': '229.9000', '4. close': '229.9200', '5. volume': '27'}, '2024-11-22 19:50:00': {'1. open': '229.9100', '2. high': '229.9500', '3. low': '229.9000', '4. close': '229.9400', '5. volume': '22'}, '2024-11-22 19:49:00': {'1. open': '229.9300', '2. high': '229.9300', '3. low': '229.9000', '4. close': '229.9000', '5. volume': '16'}, '2024-11-22 19:48:00': {'1. open': '229.9000', '2. high': '229.9600', '3. low': '229.9000', '4. close': '229.9300', '5. volume': '59'}, '2024-11-22 19:47:00': {'1. open': '229.9000', '2. high': '229.9300', '3. low': '229.9000', '4. close': '229.9000', '5. volume': '9'}, '2024-11-22 19:46:00': {'1. open': '229.9300', '2. high': '229.9500', '3. low': '229.9000', '4. close': '229.9300', '5. volume': '26'}, '2024-11-22 19:45:00': {'1. open': '229.9100', '2. high': '229.9300', '3. low': '229.9100', '4. close': '229.9100', '5. volume': '66'}, '2024-11-22 19:44:00': {'1. open': '229.9300', '2. high': '229.9600', '3. low': '229.9000', '4. close': '229.9000', '5. volume': '39'}, '2024-11-22 19:43:00': {'1. open': '229.9450', '2. high': '229.9600', '3. low': '229.9100', '4. close': '229.9300', '5. volume': '310'}, '2024-11-22 19:42:00': {'1. open': '229.9300', '2. high': '229.9450', '3. low': '229.9300', '4. close': '229.9450', '5. volume': '28'}, '2024-11-22 19:41:00': {'1. open': '229.9450', '2. high': '229.9592', '3. low': '229.9300', '4. close': '229.9400', '5. volume': '10'}, '2024-11-22 19:40:00': {'1. open': '229.9300', '2. high': '229.9450', '3. low': '229.9300', '4. close': '229.9300', '5. volume': '10'}, '2024-11-22 19:39:00': {'1. open': '229.9200', '2. high': '229.9600', '3. low': '229.9200', '4. close': '229.9450', '5. volume': '109'}, '2024-11-22 19:38:00': {'1. open': '229.9300', '2. high': '229.9600', '3. low': '229.9000', '4. close': '229.9200', '5. volume': '50'}, '2024-11-22 19:37:00': {'1. open': '229.9300', '2. high': '229.9300', '3. low': '229.9000', '4. close': '229.9100', '5. volume': '178'}, '2024-11-22 19:36:00': {'1. open': '229.9350', '2. high': '229.9800', '3. low': '229.9100', '4. close': '229.9300', '5. volume': '20'}, '2024-11-22 19:35:00': {'1. open': '229.9300', '2. high': '229.9350', '3. low': '229.9100', '4. close': '229.9350', '5. volume': '103'}, '2024-11-22 19:34:00': {'1. open': '229.9350', '2. high': '229.9350', '3. low': '229.9100', '4. close': '229.9350', '5. volume': '12'}, '2024-11-22 19:33:00': {'1. open': '229.9300', '2. high': '229.9350', '3. low': '229.8900', '4. close': '229.9350', '5. volume': '86'}, '2024-11-22 19:32:00': {'1. open': '229.9400', '2. high': '229.9800', '3. low': '229.8900', '4. close': '229.9350', '5. volume': '53'}, '2024-11-22 19:31:00': {'1. open': '229.9350', '2. high': '229.9800', '3. low': '229.8900', '4. close': '229.9350', '5. volume': '201'}, '2024-11-22 19:30:00': {'1. open': '229.9200', '2. high': '229.9877', '3. low': '229.9100', '4. close': '229.9350', '5. volume': '42'}, '2024-11-22 19:29:00': {'1. open': '229.9450', '2. high': '229.9900', '3. low': '229.9200', '4. close': '229.9450', '5. volume': '23'}, '2024-11-22 19:28:00': {'1. open': '229.9899', '2. high': '229.9900', '3. low': '229.9000', '4. close': '229.9450', '5. volume': '96'}, '2024-11-22 19:27:00': {'1. open': '229.9000', '2. high': '229.9600', '3. low': '229.9000', '4. close': '229.9300', '5. volume': '418'}, '2024-11-22 19:26:00': {'1. open': '229.9200', '2. high': '229.9450', '3. low': '229.9000', '4. close': '229.9450', '5. volume': '27'}, '2024-11-22 19:25:00': {'1. open': '229.9200', '2. high': '229.9450', '3. low': '229.9200', '4. close': '229.9450', '5. volume': '18'}, '2024-11-22 19:24:00': {'1. open': '229.9450', '2. high': '229.9900', '3. low': '229.9022', '4. close': '229.9450', '5. volume': '178'}, '2024-11-22 19:23:00': {'1. open': '229.9550', '2. high': '229.9550', '3. low': '229.9000', '4. close': '229.9450', '5. volume': '132'}, '2024-11-22 19:22:00': {'1. open': '229.9600', '2. high': '229.9600', '3. low': '229.9200', '4. close': '229.9550', '5. volume': '22'}, '2024-11-22 19:21:00': {'1. open': '229.9600', '2. high': '230.0000', '3. low': '229.9200', '4. close': '230.0000', '5. volume': '99'}, '2024-11-22 19:20:00': {'1. open': '229.9600', '2. high': '229.9600', '3. low': '229.9200', '4. close': '229.9600', '5. volume': '37'}, '2024-11-22 19:19:00': {'1. open': '229.9600', '2. high': '230.0000', '3. low': '229.9200', '4. close': '229.9600', '5. volume': '148'}, '2024-11-22 19:18:00': {'1. open': '229.9500', '2. high': '229.9720', '3. low': '229.9200', '4. close': '229.9200', '5. volume': '41'}, '2024-11-22 19:17:00': {'1. open': '230.0000', '2. high': '230.0000', '3. low': '229.8900', '4. close': '229.9100', '5. volume': '42'}, '2024-11-22 19:16:00': {'1. open': '229.9500', '2. high': '229.9500', '3. low': '229.8900', '4. close': '229.9450', '5. volume': '790'}, '2024-11-22 19:15:00': {'1. open': '229.9450', '2. high': '230.0000', '3. low': '229.9450', '4. close': '229.9450', '5. volume': '55'}, '2024-11-22 19:14:00': {'1. open': '229.8900', '2. high': '229.9600', '3. low': '229.8900', '4. close': '229.9450', '5. volume': '83'}, '2024-11-22 19:13:00': {'1. open': '229.9450', '2. high': '229.9500', '3. low': '229.9100', '4. close': '229.9100', '5. volume': '42'}, '2024-11-22 19:12:00': {'1. open': '229.9450', '2. high': '230.0000', '3. low': '229.8900', '4. close': '229.9800', '5. volume': '246'}, '2024-11-22 19:11:00': {'1. open': '229.9300', '2. high': '230.0000', '3. low': '229.8900', '4. close': '229.9450', '5. volume': '22'}, '2024-11-22 19:10:00': {'1. open': '229.9450', '2. high': '230.0000', '3. low': '229.8900', '4. close': '229.9100', '5. volume': '35'}, '2024-11-22 19:09:00': {'1. open': '229.8900', '2. high': '229.9900', '3. low': '229.8900', '4. close': '229.8900', '5. volume': '43'}, '2024-11-22 19:08:00': {'1. open': '229.9400', '2. high': '229.9900', '3. low': '229.8900', '4. close': '229.9400', '5. volume': '19'}, '2024-11-22 19:07:00': {'1. open': '229.8900', '2. high': '229.9900', '3. low': '229.8900', '4. close': '229.9900', '5. volume': '21'}, '2024-11-22 19:06:00': {'1. open': '229.8900', '2. high': '229.9875', '3. low': '229.8900', '4. close': '229.9875', '5. volume': '8'}, '2024-11-22 19:05:00': {'1. open': '229.9450', '2. high': '229.9900', '3. low': '229.9000', '4. close': '229.9800', '5. volume': '505'}, '2024-11-22 19:04:00': {'1. open': '229.9000', '2. high': '229.9800', '3. low': '229.9000', '4. close': '229.9800', '5. volume': '13'}, '2024-11-22 19:03:00': {'1. open': '229.9500', '2. high': '229.9797', '3. low': '229.9500', '4. close': '229.9500', '5. volume': '59'}, '2024-11-22 19:02:00': {'1. open': '229.9750', '2. high': '230.0000', '3. low': '229.9750', '4. close': '230.0000', '5. volume': '25'}, '2024-11-22 19:01:00': {'1. open': '229.9900', '2. high': '229.9900', '3. low': '229.9500', '4. close': '229.9500', '5. volume': '29'}, '2024-11-22 19:00:00': {'1. open': '229.9800', '2. high': '230.0000', '3. low': '229.9800', '4. close': '230.0000', '5. volume': '6'}, '2024-11-22 18:59:00': {'1. open': '229.9800', '2. high': '229.9953', '3. low': '229.9800', '4. close': '229.9953', '5. volume': '37'}, '2024-11-22 18:58:00': {'1. open': '229.9900', '2. high': '229.9900', '3. low': '229.9500', '4. close': '229.9500', '5. volume': '693'}, '2024-11-22 18:57:00': {'1. open': '229.9700', '2. high': '229.9900', '3. low': '229.9500', '4. close': '229.9700', '5. volume': '62'}, '2024-11-22 18:56:00': {'1. open': '229.9900', '2. high': '230.0000', '3. low': '229.9700', '4. close': '229.9700', '5. volume': '10'}, '2024-11-22 18:55:00': {'1. open': '229.9700', '2. high': '229.9900', '3. low': '229.9700', '4. close': '229.9900', '5. volume': '11'}, '2024-11-22 18:54:00': {'1. open': '229.9600', '2. high': '230.0000', '3. low': '229.9100', '4. close': '229.9600', '5. volume': '53'}, '2024-11-22 18:53:00': {'1. open': '229.9700', '2. high': '230.0000', '3. low': '229.9600', '4. close': '229.9600', '5. volume': '29'}, '2024-11-22 18:52:00': {'1. open': '229.9100', '2. high': '229.9700', '3. low': '229.9100', '4. close': '229.9550', '5. volume': '46'}, '2024-11-22 18:51:00': {'1. open': '229.9100', '2. high': '229.9900', '3. low': '229.9100', '4. close': '229.9900', '5. volume': '1024'}, '2024-11-22 18:50:00': {'1. open': '229.9900', '2. high': '230.0000', '3. low': '229.9400', '4. close': '229.9600', '5. volume': '160'}, '2024-11-22 18:49:00': {'1. open': '229.9700', '2. high': '230.0000', '3. low': '229.9700', '4. close': '229.9900', '5. volume': '105'}, '2024-11-22 18:48:00': {'1. open': '229.9900', '2. high': '229.9900', '3. low': '229.9400', '4. close': '229.9700', '5. volume': '114'}, '2024-11-22 18:47:00': {'1. open': '230.0000', '2. high': '230.0000', '3. low': '229.9400', '4. close': '229.9700', '5. volume': '21'}, '2024-11-22 18:46:00': {'1. open': '229.9600', '2. high': '229.9985', '3. low': '229.9400', '4. close': '229.9800', '5. volume': '89'}, '2024-11-22 18:45:00': {'1. open': '229.9600', '2. high': '229.9800', '3. low': '229.9600', '4. close': '229.9600', '5. volume': '234'}, '2024-11-22 18:44:00': {'1. open': '229.9340', '2. high': '229.9800', '3. low': '229.9100', '4. close': '229.9450', '5. volume': '24'}, '2024-11-22 18:43:00': {'1. open': '229.9500', '2. high': '229.9800', '3. low': '229.9100', '4. close': '229.9450', '5. volume': '291'}, '2024-11-22 18:42:00': {'1. open': '229.9700', '2. high': '229.9800', '3. low': '229.9500', '4. close': '229.9500', '5. volume': '109'}, '2024-11-22 18:41:00': {'1. open': '229.9529', '2. high': '229.9700', '3. low': '229.9500', '4. close': '229.9650', '5. volume': '426'}, '2024-11-22 18:40:00': {'1. open': '229.9500', '2. high': '229.9791', '3. low': '229.9500', '4. close': '229.9700', '5. volume': '38'}, '2024-11-22 18:39:00': {'1. open': '229.9650', '2. high': '229.9800', '3. low': '229.9500', '4. close': '229.9500', '5. volume': '14'}, '2024-11-22 18:38:00': {'1. open': '229.9650', '2. high': '229.9800', '3. low': '229.9650', '4. close': '229.9650', '5. volume': '45'}, '2024-11-22 18:37:00': {'1. open': '229.9500', '2. high': '229.9800', '3. low': '229.9500', '4. close': '229.9800', '5. volume': '423'}, '2024-11-22 18:36:00': {'1. open': '230.0000', '2. high': '230.0000', '3. low': '229.9750', '4. close': '229.9750', '5. volume': '49'}, '2024-11-22 18:35:00': {'1. open': '230.0000', '2. high': '230.0000', '3. low': '229.9750', '4. close': '229.9750', '5. volume': '544'}, '2024-11-22 18:34:00': {'1. open': '229.9750', '2. high': '229.9900', '3. low': '229.9500', '4. close': '229.9750', '5. volume': '148'}, '2024-11-22 18:33:00': {'1. open': '229.9900', '2. high': '230.0000', '3. low': '229.9750', '4. close': '230.0000', '5. volume': '90'}, '2024-11-22 18:32:00': {'1. open': '230.0000', '2. high': '230.0000', '3. low': '229.9500', '4. close': '229.9900', '5. volume': '30'}, '2024-11-22 18:31:00': {'1. open': '229.9600', '2. high': '229.9900', '3. low': '229.9500', '4. close': '229.9900', '5. volume': '121'}, '2024-11-22 18:30:00': {'1. open': '229.9800', '2. high': '229.9800', '3. low': '229.9512', '4. close': '229.9512', '5. volume': '20'}, '2024-11-22 18:29:00': {'1. open': '229.9800', '2. high': '230.0000', '3. low': '229.9500', '4. close': '229.9750', '5. volume': '13'}, '2024-11-22 18:28:00': {'1. open': '229.9900', '2. high': '230.0000', '3. low': '229.9500', '4. close': '229.9750', '5. volume': '76'}, '2024-11-22 18:27:00': {'1. open': '229.9900', '2. high': '230.0000', '3. low': '229.9800', '4. close': '229.9900', '5. volume': '149'}, '2024-11-22 18:26:00': {'1. open': '230.0000', '2. high': '230.0000', '3. low': '229.9800', '4. close': '229.9900', '5. volume': '34'}, '2024-11-22 18:25:00': {'1. open': '229.9800', '2. high': '230.0000', '3. low': '229.9800', '4. close': '229.9800', '5. volume': '17'}, '2024-11-22 18:24:00': {'1. open': '229.9500', '2. high': '229.9900', '3. low': '229.9100', '4. close': '229.9800', '5. volume': '1533'}, '2024-11-22 18:23:00': {'1. open': '229.9450', '2. high': '229.9800', '3. low': '229.9400', '4. close': '229.9600', '5. volume': '220'}, '2024-11-22 18:22:00': {'1. open': '229.9100', '2. high': '229.9782', '3. low': '229.9100', '4. close': '229.9782', '5. volume': '113'}, '2024-11-22 18:21:00': {'1. open': '229.9100', '2. high': '229.9450', '3. low': '229.9100', '4. close': '229.9450', '5. volume': '28'}, '2024-11-22 18:20:00': {'1. open': '229.9100', '2. high': '229.9450', '3. low': '229.9100', '4. close': '229.9450', '5. volume': '4'}}}\n"
     ]
    }
   ],
   "source": [
    "import requests\n",
    "\n",
    "# Replace \"your_actual_api_key_here\" with your actual API key\n",
    "api_key = ALPHA_VANTAGE_API_KEY\n",
    "\n",
    "params = {\n",
    "    \"api_key\": api_key,\n",
    "    \"ticker\": \"AAPL\",\n",
    "    \"function\": \"TIME_SERIES_INTRADAY\"\n",
    "}\n",
    "\n",
    "# Use the defined function variable in the URL with proper formatting\n",
    "url = 'https://www.alphavantage.co/query?function={function}&symbol={ticker}&interval=1min&apikey={api_key}'.format(**params)\n",
    "\n",
    "# Make the API request\n",
    "r = requests.get(url)\n",
    "data = r.json()\n",
    "\n",
    "# Print the data returned from the API\n",
    "print(data)\n"
   ]
  },
  {
   "cell_type": "code",
   "execution_count": 6,
   "id": "5e175796-abb8-42db-a34d-3caf9ac1dccf",
   "metadata": {},
   "outputs": [
    {
     "data": {
      "text/plain": [
       "'Time Series (1min)'"
      ]
     },
     "execution_count": 6,
     "metadata": {},
     "output_type": "execute_result"
    }
   ],
   "source": [
    "dataset_key=[x for x in list(data.keys()) if not x.lower()==\"meta data\"][0]\n",
    "dataset_key"
   ]
  },
  {
   "cell_type": "code",
   "execution_count": 7,
   "id": "a657ed13-25e1-4342-bb4b-c9c1c2b52088",
   "metadata": {},
   "outputs": [],
   "source": [
    "result=data[dataset_key]\n",
    "#for timestamp_str in result.keys():\n",
    "    #print(timestamp_str)"
   ]
  },
  {
   "cell_type": "code",
   "execution_count": 8,
   "id": "a5d37ac9-e072-4006-b97d-1ebc8375e6a5",
   "metadata": {},
   "outputs": [
    {
     "data": {
      "text/plain": [
       "'2024-11-22 19:59:00'"
      ]
     },
     "execution_count": 8,
     "metadata": {},
     "output_type": "execute_result"
    }
   ],
   "source": [
    "timestamp_str=list(result.keys())[0]\n",
    "timestamp_str"
   ]
  },
  {
   "cell_type": "code",
   "execution_count": 14,
   "id": "1603417c-7ae9-4daf-9944-1e45cf57afe5",
   "metadata": {},
   "outputs": [
    {
     "name": "stdout",
     "output_type": "stream",
     "text": [
      "2024-11-23 00:59:00+00:00\n"
     ]
    }
   ],
   "source": [
    "import pytz\n",
    "from datetime import datetime\n",
    "\n",
    "# Define timestamp format\n",
    "timestamp_format = '%Y-%m-%d %H:%M:%S'\n",
    "eastern = pytz.timezone(\"US/Eastern\")\n",
    "utc = pytz.utc\n",
    "\n",
    "# Parse the timestamp string and localize it\n",
    "timestamp = eastern.localize(datetime.strptime(timestamp_str, timestamp_format)).astimezone(utc)\n",
    "print(timestamp)\n"
   ]
  },
  {
   "cell_type": "code",
   "execution_count": 10,
   "id": "eaeff787-f405-4c85-90f9-4a80163defd1",
   "metadata": {},
   "outputs": [
    {
     "data": {
      "text/plain": [
       "{'1. open': '229.9350',\n",
       " '2. high': '229.9500',\n",
       " '3. low': '229.9200',\n",
       " '4. close': '229.9350',\n",
       " '5. volume': '169'}"
      ]
     },
     "execution_count": 10,
     "metadata": {},
     "output_type": "execute_result"
    }
   ],
   "source": [
    "result_val=result.get(timestamp_str)\n",
    "result_val"
   ]
  },
  {
   "cell_type": "code",
   "execution_count": 16,
   "id": "15b47c0f-c543-443f-9839-55bfd2ea24e1",
   "metadata": {},
   "outputs": [],
   "source": [
    "from datetime import datetime \n",
    "import pytz\n",
    "from decimal import Decimal\n",
    "\n",
    "def transform_alpha_vantage_result(timestamp_str,result):\n",
    "    timestamp_format = '%Y-%m-%d %H:%M:%S'\n",
    "    eastern = pytz.timezone(\"US/Eastern\")\n",
    "    utc = pytz.utc\n",
    "\n",
    "# Parse the timestamp string and localize it\n",
    "    timestamp = eastern.localize(datetime.strptime(timestamp_str, timestamp_format)).astimezone(utc)\n",
    "    timestamp\n",
    "    \n",
    "    return {\n",
    "        'open_price': Decimal(result['1. open']),\n",
    "        'close_price': Decimal(result['4. close']),\n",
    "        'high_price': Decimal(result['2. high']),\n",
    "        'low_price': Decimal(result['3. low']),\n",
    "        'number_of_trades': None,\n",
    "        'volume': int(result['5. volume']),\n",
    "        'volume_weighted_average': None,\n",
    "        'time': timestamp,\n",
    "    }\n"
   ]
  },
  {
   "cell_type": "code",
   "execution_count": 17,
   "id": "b157d81d-15b9-429d-a14e-f4c7157970f2",
   "metadata": {},
   "outputs": [
    {
     "data": {
      "text/plain": [
       "{'open_price': Decimal('229.9350'),\n",
       " 'close_price': Decimal('229.9350'),\n",
       " 'high_price': Decimal('229.9500'),\n",
       " 'low_price': Decimal('229.9200'),\n",
       " 'number_of_trades': None,\n",
       " 'volume': 169,\n",
       " 'volume_weighted_average': None,\n",
       " 'time': datetime.datetime(2024, 11, 23, 0, 59, tzinfo=<UTC>)}"
      ]
     },
     "execution_count": 17,
     "metadata": {},
     "output_type": "execute_result"
    }
   ],
   "source": [
    "transform_alpha_vantage_result(timestamp_str,result_val)"
   ]
  },
  {
   "cell_type": "code",
   "execution_count": 18,
   "id": "c9718bc6-aa1a-47ea-8f8e-7d9c17217d1b",
   "metadata": {},
   "outputs": [
    {
     "name": "stdout",
     "output_type": "stream",
     "text": [
      "{'open_price': Decimal('229.9350'), 'close_price': Decimal('229.9350'), 'high_price': Decimal('229.9500'), 'low_price': Decimal('229.9200'), 'number_of_trades': None, 'volume': 169, 'volume_weighted_average': None, 'time': datetime.datetime(2024, 11, 23, 0, 59, tzinfo=<UTC>)}\n",
      "{'open_price': Decimal('229.9400'), 'close_price': Decimal('229.9250'), 'high_price': Decimal('229.9500'), 'low_price': Decimal('229.9120'), 'number_of_trades': None, 'volume': 127, 'volume_weighted_average': None, 'time': datetime.datetime(2024, 11, 23, 0, 58, tzinfo=<UTC>)}\n",
      "{'open_price': Decimal('229.9000'), 'close_price': Decimal('229.9250'), 'high_price': Decimal('229.9400'), 'low_price': Decimal('229.9000'), 'number_of_trades': None, 'volume': 23, 'volume_weighted_average': None, 'time': datetime.datetime(2024, 11, 23, 0, 57, tzinfo=<UTC>)}\n",
      "{'open_price': Decimal('229.9300'), 'close_price': Decimal('229.9200'), 'high_price': Decimal('229.9500'), 'low_price': Decimal('229.9000'), 'number_of_trades': None, 'volume': 1009, 'volume_weighted_average': None, 'time': datetime.datetime(2024, 11, 23, 0, 56, tzinfo=<UTC>)}\n",
      "{'open_price': Decimal('229.9250'), 'close_price': Decimal('229.9200'), 'high_price': Decimal('229.9500'), 'low_price': Decimal('229.9000'), 'number_of_trades': None, 'volume': 49, 'volume_weighted_average': None, 'time': datetime.datetime(2024, 11, 23, 0, 55, tzinfo=<UTC>)}\n",
      "{'open_price': Decimal('229.9500'), 'close_price': Decimal('229.9300'), 'high_price': Decimal('229.9500'), 'low_price': Decimal('229.9000'), 'number_of_trades': None, 'volume': 73, 'volume_weighted_average': None, 'time': datetime.datetime(2024, 11, 23, 0, 54, tzinfo=<UTC>)}\n",
      "{'open_price': Decimal('229.9300'), 'close_price': Decimal('229.9900'), 'high_price': Decimal('229.9900'), 'low_price': Decimal('229.9000'), 'number_of_trades': None, 'volume': 548, 'volume_weighted_average': None, 'time': datetime.datetime(2024, 11, 23, 0, 53, tzinfo=<UTC>)}\n",
      "{'open_price': Decimal('229.9100'), 'close_price': Decimal('229.9350'), 'high_price': Decimal('229.9350'), 'low_price': Decimal('229.9100'), 'number_of_trades': None, 'volume': 11, 'volume_weighted_average': None, 'time': datetime.datetime(2024, 11, 23, 0, 52, tzinfo=<UTC>)}\n",
      "{'open_price': Decimal('229.9400'), 'close_price': Decimal('229.9200'), 'high_price': Decimal('229.9400'), 'low_price': Decimal('229.9000'), 'number_of_trades': None, 'volume': 27, 'volume_weighted_average': None, 'time': datetime.datetime(2024, 11, 23, 0, 51, tzinfo=<UTC>)}\n",
      "{'open_price': Decimal('229.9100'), 'close_price': Decimal('229.9400'), 'high_price': Decimal('229.9500'), 'low_price': Decimal('229.9000'), 'number_of_trades': None, 'volume': 22, 'volume_weighted_average': None, 'time': datetime.datetime(2024, 11, 23, 0, 50, tzinfo=<UTC>)}\n",
      "{'open_price': Decimal('229.9300'), 'close_price': Decimal('229.9000'), 'high_price': Decimal('229.9300'), 'low_price': Decimal('229.9000'), 'number_of_trades': None, 'volume': 16, 'volume_weighted_average': None, 'time': datetime.datetime(2024, 11, 23, 0, 49, tzinfo=<UTC>)}\n",
      "{'open_price': Decimal('229.9000'), 'close_price': Decimal('229.9300'), 'high_price': Decimal('229.9600'), 'low_price': Decimal('229.9000'), 'number_of_trades': None, 'volume': 59, 'volume_weighted_average': None, 'time': datetime.datetime(2024, 11, 23, 0, 48, tzinfo=<UTC>)}\n",
      "{'open_price': Decimal('229.9000'), 'close_price': Decimal('229.9000'), 'high_price': Decimal('229.9300'), 'low_price': Decimal('229.9000'), 'number_of_trades': None, 'volume': 9, 'volume_weighted_average': None, 'time': datetime.datetime(2024, 11, 23, 0, 47, tzinfo=<UTC>)}\n",
      "{'open_price': Decimal('229.9300'), 'close_price': Decimal('229.9300'), 'high_price': Decimal('229.9500'), 'low_price': Decimal('229.9000'), 'number_of_trades': None, 'volume': 26, 'volume_weighted_average': None, 'time': datetime.datetime(2024, 11, 23, 0, 46, tzinfo=<UTC>)}\n",
      "{'open_price': Decimal('229.9100'), 'close_price': Decimal('229.9100'), 'high_price': Decimal('229.9300'), 'low_price': Decimal('229.9100'), 'number_of_trades': None, 'volume': 66, 'volume_weighted_average': None, 'time': datetime.datetime(2024, 11, 23, 0, 45, tzinfo=<UTC>)}\n",
      "{'open_price': Decimal('229.9300'), 'close_price': Decimal('229.9000'), 'high_price': Decimal('229.9600'), 'low_price': Decimal('229.9000'), 'number_of_trades': None, 'volume': 39, 'volume_weighted_average': None, 'time': datetime.datetime(2024, 11, 23, 0, 44, tzinfo=<UTC>)}\n",
      "{'open_price': Decimal('229.9450'), 'close_price': Decimal('229.9300'), 'high_price': Decimal('229.9600'), 'low_price': Decimal('229.9100'), 'number_of_trades': None, 'volume': 310, 'volume_weighted_average': None, 'time': datetime.datetime(2024, 11, 23, 0, 43, tzinfo=<UTC>)}\n",
      "{'open_price': Decimal('229.9300'), 'close_price': Decimal('229.9450'), 'high_price': Decimal('229.9450'), 'low_price': Decimal('229.9300'), 'number_of_trades': None, 'volume': 28, 'volume_weighted_average': None, 'time': datetime.datetime(2024, 11, 23, 0, 42, tzinfo=<UTC>)}\n",
      "{'open_price': Decimal('229.9450'), 'close_price': Decimal('229.9400'), 'high_price': Decimal('229.9592'), 'low_price': Decimal('229.9300'), 'number_of_trades': None, 'volume': 10, 'volume_weighted_average': None, 'time': datetime.datetime(2024, 11, 23, 0, 41, tzinfo=<UTC>)}\n",
      "{'open_price': Decimal('229.9300'), 'close_price': Decimal('229.9300'), 'high_price': Decimal('229.9450'), 'low_price': Decimal('229.9300'), 'number_of_trades': None, 'volume': 10, 'volume_weighted_average': None, 'time': datetime.datetime(2024, 11, 23, 0, 40, tzinfo=<UTC>)}\n",
      "{'open_price': Decimal('229.9200'), 'close_price': Decimal('229.9450'), 'high_price': Decimal('229.9600'), 'low_price': Decimal('229.9200'), 'number_of_trades': None, 'volume': 109, 'volume_weighted_average': None, 'time': datetime.datetime(2024, 11, 23, 0, 39, tzinfo=<UTC>)}\n",
      "{'open_price': Decimal('229.9300'), 'close_price': Decimal('229.9200'), 'high_price': Decimal('229.9600'), 'low_price': Decimal('229.9000'), 'number_of_trades': None, 'volume': 50, 'volume_weighted_average': None, 'time': datetime.datetime(2024, 11, 23, 0, 38, tzinfo=<UTC>)}\n",
      "{'open_price': Decimal('229.9300'), 'close_price': Decimal('229.9100'), 'high_price': Decimal('229.9300'), 'low_price': Decimal('229.9000'), 'number_of_trades': None, 'volume': 178, 'volume_weighted_average': None, 'time': datetime.datetime(2024, 11, 23, 0, 37, tzinfo=<UTC>)}\n",
      "{'open_price': Decimal('229.9350'), 'close_price': Decimal('229.9300'), 'high_price': Decimal('229.9800'), 'low_price': Decimal('229.9100'), 'number_of_trades': None, 'volume': 20, 'volume_weighted_average': None, 'time': datetime.datetime(2024, 11, 23, 0, 36, tzinfo=<UTC>)}\n",
      "{'open_price': Decimal('229.9300'), 'close_price': Decimal('229.9350'), 'high_price': Decimal('229.9350'), 'low_price': Decimal('229.9100'), 'number_of_trades': None, 'volume': 103, 'volume_weighted_average': None, 'time': datetime.datetime(2024, 11, 23, 0, 35, tzinfo=<UTC>)}\n",
      "{'open_price': Decimal('229.9350'), 'close_price': Decimal('229.9350'), 'high_price': Decimal('229.9350'), 'low_price': Decimal('229.9100'), 'number_of_trades': None, 'volume': 12, 'volume_weighted_average': None, 'time': datetime.datetime(2024, 11, 23, 0, 34, tzinfo=<UTC>)}\n",
      "{'open_price': Decimal('229.9300'), 'close_price': Decimal('229.9350'), 'high_price': Decimal('229.9350'), 'low_price': Decimal('229.8900'), 'number_of_trades': None, 'volume': 86, 'volume_weighted_average': None, 'time': datetime.datetime(2024, 11, 23, 0, 33, tzinfo=<UTC>)}\n",
      "{'open_price': Decimal('229.9400'), 'close_price': Decimal('229.9350'), 'high_price': Decimal('229.9800'), 'low_price': Decimal('229.8900'), 'number_of_trades': None, 'volume': 53, 'volume_weighted_average': None, 'time': datetime.datetime(2024, 11, 23, 0, 32, tzinfo=<UTC>)}\n",
      "{'open_price': Decimal('229.9350'), 'close_price': Decimal('229.9350'), 'high_price': Decimal('229.9800'), 'low_price': Decimal('229.8900'), 'number_of_trades': None, 'volume': 201, 'volume_weighted_average': None, 'time': datetime.datetime(2024, 11, 23, 0, 31, tzinfo=<UTC>)}\n",
      "{'open_price': Decimal('229.9200'), 'close_price': Decimal('229.9350'), 'high_price': Decimal('229.9877'), 'low_price': Decimal('229.9100'), 'number_of_trades': None, 'volume': 42, 'volume_weighted_average': None, 'time': datetime.datetime(2024, 11, 23, 0, 30, tzinfo=<UTC>)}\n",
      "{'open_price': Decimal('229.9450'), 'close_price': Decimal('229.9450'), 'high_price': Decimal('229.9900'), 'low_price': Decimal('229.9200'), 'number_of_trades': None, 'volume': 23, 'volume_weighted_average': None, 'time': datetime.datetime(2024, 11, 23, 0, 29, tzinfo=<UTC>)}\n",
      "{'open_price': Decimal('229.9899'), 'close_price': Decimal('229.9450'), 'high_price': Decimal('229.9900'), 'low_price': Decimal('229.9000'), 'number_of_trades': None, 'volume': 96, 'volume_weighted_average': None, 'time': datetime.datetime(2024, 11, 23, 0, 28, tzinfo=<UTC>)}\n",
      "{'open_price': Decimal('229.9000'), 'close_price': Decimal('229.9300'), 'high_price': Decimal('229.9600'), 'low_price': Decimal('229.9000'), 'number_of_trades': None, 'volume': 418, 'volume_weighted_average': None, 'time': datetime.datetime(2024, 11, 23, 0, 27, tzinfo=<UTC>)}\n",
      "{'open_price': Decimal('229.9200'), 'close_price': Decimal('229.9450'), 'high_price': Decimal('229.9450'), 'low_price': Decimal('229.9000'), 'number_of_trades': None, 'volume': 27, 'volume_weighted_average': None, 'time': datetime.datetime(2024, 11, 23, 0, 26, tzinfo=<UTC>)}\n",
      "{'open_price': Decimal('229.9200'), 'close_price': Decimal('229.9450'), 'high_price': Decimal('229.9450'), 'low_price': Decimal('229.9200'), 'number_of_trades': None, 'volume': 18, 'volume_weighted_average': None, 'time': datetime.datetime(2024, 11, 23, 0, 25, tzinfo=<UTC>)}\n",
      "{'open_price': Decimal('229.9450'), 'close_price': Decimal('229.9450'), 'high_price': Decimal('229.9900'), 'low_price': Decimal('229.9022'), 'number_of_trades': None, 'volume': 178, 'volume_weighted_average': None, 'time': datetime.datetime(2024, 11, 23, 0, 24, tzinfo=<UTC>)}\n",
      "{'open_price': Decimal('229.9550'), 'close_price': Decimal('229.9450'), 'high_price': Decimal('229.9550'), 'low_price': Decimal('229.9000'), 'number_of_trades': None, 'volume': 132, 'volume_weighted_average': None, 'time': datetime.datetime(2024, 11, 23, 0, 23, tzinfo=<UTC>)}\n",
      "{'open_price': Decimal('229.9600'), 'close_price': Decimal('229.9550'), 'high_price': Decimal('229.9600'), 'low_price': Decimal('229.9200'), 'number_of_trades': None, 'volume': 22, 'volume_weighted_average': None, 'time': datetime.datetime(2024, 11, 23, 0, 22, tzinfo=<UTC>)}\n",
      "{'open_price': Decimal('229.9600'), 'close_price': Decimal('230.0000'), 'high_price': Decimal('230.0000'), 'low_price': Decimal('229.9200'), 'number_of_trades': None, 'volume': 99, 'volume_weighted_average': None, 'time': datetime.datetime(2024, 11, 23, 0, 21, tzinfo=<UTC>)}\n",
      "{'open_price': Decimal('229.9600'), 'close_price': Decimal('229.9600'), 'high_price': Decimal('229.9600'), 'low_price': Decimal('229.9200'), 'number_of_trades': None, 'volume': 37, 'volume_weighted_average': None, 'time': datetime.datetime(2024, 11, 23, 0, 20, tzinfo=<UTC>)}\n",
      "{'open_price': Decimal('229.9600'), 'close_price': Decimal('229.9600'), 'high_price': Decimal('230.0000'), 'low_price': Decimal('229.9200'), 'number_of_trades': None, 'volume': 148, 'volume_weighted_average': None, 'time': datetime.datetime(2024, 11, 23, 0, 19, tzinfo=<UTC>)}\n",
      "{'open_price': Decimal('229.9500'), 'close_price': Decimal('229.9200'), 'high_price': Decimal('229.9720'), 'low_price': Decimal('229.9200'), 'number_of_trades': None, 'volume': 41, 'volume_weighted_average': None, 'time': datetime.datetime(2024, 11, 23, 0, 18, tzinfo=<UTC>)}\n",
      "{'open_price': Decimal('230.0000'), 'close_price': Decimal('229.9100'), 'high_price': Decimal('230.0000'), 'low_price': Decimal('229.8900'), 'number_of_trades': None, 'volume': 42, 'volume_weighted_average': None, 'time': datetime.datetime(2024, 11, 23, 0, 17, tzinfo=<UTC>)}\n",
      "{'open_price': Decimal('229.9500'), 'close_price': Decimal('229.9450'), 'high_price': Decimal('229.9500'), 'low_price': Decimal('229.8900'), 'number_of_trades': None, 'volume': 790, 'volume_weighted_average': None, 'time': datetime.datetime(2024, 11, 23, 0, 16, tzinfo=<UTC>)}\n",
      "{'open_price': Decimal('229.9450'), 'close_price': Decimal('229.9450'), 'high_price': Decimal('230.0000'), 'low_price': Decimal('229.9450'), 'number_of_trades': None, 'volume': 55, 'volume_weighted_average': None, 'time': datetime.datetime(2024, 11, 23, 0, 15, tzinfo=<UTC>)}\n",
      "{'open_price': Decimal('229.8900'), 'close_price': Decimal('229.9450'), 'high_price': Decimal('229.9600'), 'low_price': Decimal('229.8900'), 'number_of_trades': None, 'volume': 83, 'volume_weighted_average': None, 'time': datetime.datetime(2024, 11, 23, 0, 14, tzinfo=<UTC>)}\n",
      "{'open_price': Decimal('229.9450'), 'close_price': Decimal('229.9100'), 'high_price': Decimal('229.9500'), 'low_price': Decimal('229.9100'), 'number_of_trades': None, 'volume': 42, 'volume_weighted_average': None, 'time': datetime.datetime(2024, 11, 23, 0, 13, tzinfo=<UTC>)}\n",
      "{'open_price': Decimal('229.9450'), 'close_price': Decimal('229.9800'), 'high_price': Decimal('230.0000'), 'low_price': Decimal('229.8900'), 'number_of_trades': None, 'volume': 246, 'volume_weighted_average': None, 'time': datetime.datetime(2024, 11, 23, 0, 12, tzinfo=<UTC>)}\n",
      "{'open_price': Decimal('229.9300'), 'close_price': Decimal('229.9450'), 'high_price': Decimal('230.0000'), 'low_price': Decimal('229.8900'), 'number_of_trades': None, 'volume': 22, 'volume_weighted_average': None, 'time': datetime.datetime(2024, 11, 23, 0, 11, tzinfo=<UTC>)}\n",
      "{'open_price': Decimal('229.9450'), 'close_price': Decimal('229.9100'), 'high_price': Decimal('230.0000'), 'low_price': Decimal('229.8900'), 'number_of_trades': None, 'volume': 35, 'volume_weighted_average': None, 'time': datetime.datetime(2024, 11, 23, 0, 10, tzinfo=<UTC>)}\n",
      "{'open_price': Decimal('229.8900'), 'close_price': Decimal('229.8900'), 'high_price': Decimal('229.9900'), 'low_price': Decimal('229.8900'), 'number_of_trades': None, 'volume': 43, 'volume_weighted_average': None, 'time': datetime.datetime(2024, 11, 23, 0, 9, tzinfo=<UTC>)}\n",
      "{'open_price': Decimal('229.9400'), 'close_price': Decimal('229.9400'), 'high_price': Decimal('229.9900'), 'low_price': Decimal('229.8900'), 'number_of_trades': None, 'volume': 19, 'volume_weighted_average': None, 'time': datetime.datetime(2024, 11, 23, 0, 8, tzinfo=<UTC>)}\n",
      "{'open_price': Decimal('229.8900'), 'close_price': Decimal('229.9900'), 'high_price': Decimal('229.9900'), 'low_price': Decimal('229.8900'), 'number_of_trades': None, 'volume': 21, 'volume_weighted_average': None, 'time': datetime.datetime(2024, 11, 23, 0, 7, tzinfo=<UTC>)}\n",
      "{'open_price': Decimal('229.8900'), 'close_price': Decimal('229.9875'), 'high_price': Decimal('229.9875'), 'low_price': Decimal('229.8900'), 'number_of_trades': None, 'volume': 8, 'volume_weighted_average': None, 'time': datetime.datetime(2024, 11, 23, 0, 6, tzinfo=<UTC>)}\n",
      "{'open_price': Decimal('229.9450'), 'close_price': Decimal('229.9800'), 'high_price': Decimal('229.9900'), 'low_price': Decimal('229.9000'), 'number_of_trades': None, 'volume': 505, 'volume_weighted_average': None, 'time': datetime.datetime(2024, 11, 23, 0, 5, tzinfo=<UTC>)}\n",
      "{'open_price': Decimal('229.9000'), 'close_price': Decimal('229.9800'), 'high_price': Decimal('229.9800'), 'low_price': Decimal('229.9000'), 'number_of_trades': None, 'volume': 13, 'volume_weighted_average': None, 'time': datetime.datetime(2024, 11, 23, 0, 4, tzinfo=<UTC>)}\n",
      "{'open_price': Decimal('229.9500'), 'close_price': Decimal('229.9500'), 'high_price': Decimal('229.9797'), 'low_price': Decimal('229.9500'), 'number_of_trades': None, 'volume': 59, 'volume_weighted_average': None, 'time': datetime.datetime(2024, 11, 23, 0, 3, tzinfo=<UTC>)}\n",
      "{'open_price': Decimal('229.9750'), 'close_price': Decimal('230.0000'), 'high_price': Decimal('230.0000'), 'low_price': Decimal('229.9750'), 'number_of_trades': None, 'volume': 25, 'volume_weighted_average': None, 'time': datetime.datetime(2024, 11, 23, 0, 2, tzinfo=<UTC>)}\n",
      "{'open_price': Decimal('229.9900'), 'close_price': Decimal('229.9500'), 'high_price': Decimal('229.9900'), 'low_price': Decimal('229.9500'), 'number_of_trades': None, 'volume': 29, 'volume_weighted_average': None, 'time': datetime.datetime(2024, 11, 23, 0, 1, tzinfo=<UTC>)}\n",
      "{'open_price': Decimal('229.9800'), 'close_price': Decimal('230.0000'), 'high_price': Decimal('230.0000'), 'low_price': Decimal('229.9800'), 'number_of_trades': None, 'volume': 6, 'volume_weighted_average': None, 'time': datetime.datetime(2024, 11, 23, 0, 0, tzinfo=<UTC>)}\n",
      "{'open_price': Decimal('229.9800'), 'close_price': Decimal('229.9953'), 'high_price': Decimal('229.9953'), 'low_price': Decimal('229.9800'), 'number_of_trades': None, 'volume': 37, 'volume_weighted_average': None, 'time': datetime.datetime(2024, 11, 22, 23, 59, tzinfo=<UTC>)}\n",
      "{'open_price': Decimal('229.9900'), 'close_price': Decimal('229.9500'), 'high_price': Decimal('229.9900'), 'low_price': Decimal('229.9500'), 'number_of_trades': None, 'volume': 693, 'volume_weighted_average': None, 'time': datetime.datetime(2024, 11, 22, 23, 58, tzinfo=<UTC>)}\n",
      "{'open_price': Decimal('229.9700'), 'close_price': Decimal('229.9700'), 'high_price': Decimal('229.9900'), 'low_price': Decimal('229.9500'), 'number_of_trades': None, 'volume': 62, 'volume_weighted_average': None, 'time': datetime.datetime(2024, 11, 22, 23, 57, tzinfo=<UTC>)}\n",
      "{'open_price': Decimal('229.9900'), 'close_price': Decimal('229.9700'), 'high_price': Decimal('230.0000'), 'low_price': Decimal('229.9700'), 'number_of_trades': None, 'volume': 10, 'volume_weighted_average': None, 'time': datetime.datetime(2024, 11, 22, 23, 56, tzinfo=<UTC>)}\n",
      "{'open_price': Decimal('229.9700'), 'close_price': Decimal('229.9900'), 'high_price': Decimal('229.9900'), 'low_price': Decimal('229.9700'), 'number_of_trades': None, 'volume': 11, 'volume_weighted_average': None, 'time': datetime.datetime(2024, 11, 22, 23, 55, tzinfo=<UTC>)}\n",
      "{'open_price': Decimal('229.9600'), 'close_price': Decimal('229.9600'), 'high_price': Decimal('230.0000'), 'low_price': Decimal('229.9100'), 'number_of_trades': None, 'volume': 53, 'volume_weighted_average': None, 'time': datetime.datetime(2024, 11, 22, 23, 54, tzinfo=<UTC>)}\n",
      "{'open_price': Decimal('229.9700'), 'close_price': Decimal('229.9600'), 'high_price': Decimal('230.0000'), 'low_price': Decimal('229.9600'), 'number_of_trades': None, 'volume': 29, 'volume_weighted_average': None, 'time': datetime.datetime(2024, 11, 22, 23, 53, tzinfo=<UTC>)}\n",
      "{'open_price': Decimal('229.9100'), 'close_price': Decimal('229.9550'), 'high_price': Decimal('229.9700'), 'low_price': Decimal('229.9100'), 'number_of_trades': None, 'volume': 46, 'volume_weighted_average': None, 'time': datetime.datetime(2024, 11, 22, 23, 52, tzinfo=<UTC>)}\n",
      "{'open_price': Decimal('229.9100'), 'close_price': Decimal('229.9900'), 'high_price': Decimal('229.9900'), 'low_price': Decimal('229.9100'), 'number_of_trades': None, 'volume': 1024, 'volume_weighted_average': None, 'time': datetime.datetime(2024, 11, 22, 23, 51, tzinfo=<UTC>)}\n",
      "{'open_price': Decimal('229.9900'), 'close_price': Decimal('229.9600'), 'high_price': Decimal('230.0000'), 'low_price': Decimal('229.9400'), 'number_of_trades': None, 'volume': 160, 'volume_weighted_average': None, 'time': datetime.datetime(2024, 11, 22, 23, 50, tzinfo=<UTC>)}\n",
      "{'open_price': Decimal('229.9700'), 'close_price': Decimal('229.9900'), 'high_price': Decimal('230.0000'), 'low_price': Decimal('229.9700'), 'number_of_trades': None, 'volume': 105, 'volume_weighted_average': None, 'time': datetime.datetime(2024, 11, 22, 23, 49, tzinfo=<UTC>)}\n",
      "{'open_price': Decimal('229.9900'), 'close_price': Decimal('229.9700'), 'high_price': Decimal('229.9900'), 'low_price': Decimal('229.9400'), 'number_of_trades': None, 'volume': 114, 'volume_weighted_average': None, 'time': datetime.datetime(2024, 11, 22, 23, 48, tzinfo=<UTC>)}\n",
      "{'open_price': Decimal('230.0000'), 'close_price': Decimal('229.9700'), 'high_price': Decimal('230.0000'), 'low_price': Decimal('229.9400'), 'number_of_trades': None, 'volume': 21, 'volume_weighted_average': None, 'time': datetime.datetime(2024, 11, 22, 23, 47, tzinfo=<UTC>)}\n",
      "{'open_price': Decimal('229.9600'), 'close_price': Decimal('229.9800'), 'high_price': Decimal('229.9985'), 'low_price': Decimal('229.9400'), 'number_of_trades': None, 'volume': 89, 'volume_weighted_average': None, 'time': datetime.datetime(2024, 11, 22, 23, 46, tzinfo=<UTC>)}\n",
      "{'open_price': Decimal('229.9600'), 'close_price': Decimal('229.9600'), 'high_price': Decimal('229.9800'), 'low_price': Decimal('229.9600'), 'number_of_trades': None, 'volume': 234, 'volume_weighted_average': None, 'time': datetime.datetime(2024, 11, 22, 23, 45, tzinfo=<UTC>)}\n",
      "{'open_price': Decimal('229.9340'), 'close_price': Decimal('229.9450'), 'high_price': Decimal('229.9800'), 'low_price': Decimal('229.9100'), 'number_of_trades': None, 'volume': 24, 'volume_weighted_average': None, 'time': datetime.datetime(2024, 11, 22, 23, 44, tzinfo=<UTC>)}\n",
      "{'open_price': Decimal('229.9500'), 'close_price': Decimal('229.9450'), 'high_price': Decimal('229.9800'), 'low_price': Decimal('229.9100'), 'number_of_trades': None, 'volume': 291, 'volume_weighted_average': None, 'time': datetime.datetime(2024, 11, 22, 23, 43, tzinfo=<UTC>)}\n",
      "{'open_price': Decimal('229.9700'), 'close_price': Decimal('229.9500'), 'high_price': Decimal('229.9800'), 'low_price': Decimal('229.9500'), 'number_of_trades': None, 'volume': 109, 'volume_weighted_average': None, 'time': datetime.datetime(2024, 11, 22, 23, 42, tzinfo=<UTC>)}\n",
      "{'open_price': Decimal('229.9529'), 'close_price': Decimal('229.9650'), 'high_price': Decimal('229.9700'), 'low_price': Decimal('229.9500'), 'number_of_trades': None, 'volume': 426, 'volume_weighted_average': None, 'time': datetime.datetime(2024, 11, 22, 23, 41, tzinfo=<UTC>)}\n",
      "{'open_price': Decimal('229.9500'), 'close_price': Decimal('229.9700'), 'high_price': Decimal('229.9791'), 'low_price': Decimal('229.9500'), 'number_of_trades': None, 'volume': 38, 'volume_weighted_average': None, 'time': datetime.datetime(2024, 11, 22, 23, 40, tzinfo=<UTC>)}\n",
      "{'open_price': Decimal('229.9650'), 'close_price': Decimal('229.9500'), 'high_price': Decimal('229.9800'), 'low_price': Decimal('229.9500'), 'number_of_trades': None, 'volume': 14, 'volume_weighted_average': None, 'time': datetime.datetime(2024, 11, 22, 23, 39, tzinfo=<UTC>)}\n",
      "{'open_price': Decimal('229.9650'), 'close_price': Decimal('229.9650'), 'high_price': Decimal('229.9800'), 'low_price': Decimal('229.9650'), 'number_of_trades': None, 'volume': 45, 'volume_weighted_average': None, 'time': datetime.datetime(2024, 11, 22, 23, 38, tzinfo=<UTC>)}\n",
      "{'open_price': Decimal('229.9500'), 'close_price': Decimal('229.9800'), 'high_price': Decimal('229.9800'), 'low_price': Decimal('229.9500'), 'number_of_trades': None, 'volume': 423, 'volume_weighted_average': None, 'time': datetime.datetime(2024, 11, 22, 23, 37, tzinfo=<UTC>)}\n",
      "{'open_price': Decimal('230.0000'), 'close_price': Decimal('229.9750'), 'high_price': Decimal('230.0000'), 'low_price': Decimal('229.9750'), 'number_of_trades': None, 'volume': 49, 'volume_weighted_average': None, 'time': datetime.datetime(2024, 11, 22, 23, 36, tzinfo=<UTC>)}\n",
      "{'open_price': Decimal('230.0000'), 'close_price': Decimal('229.9750'), 'high_price': Decimal('230.0000'), 'low_price': Decimal('229.9750'), 'number_of_trades': None, 'volume': 544, 'volume_weighted_average': None, 'time': datetime.datetime(2024, 11, 22, 23, 35, tzinfo=<UTC>)}\n",
      "{'open_price': Decimal('229.9750'), 'close_price': Decimal('229.9750'), 'high_price': Decimal('229.9900'), 'low_price': Decimal('229.9500'), 'number_of_trades': None, 'volume': 148, 'volume_weighted_average': None, 'time': datetime.datetime(2024, 11, 22, 23, 34, tzinfo=<UTC>)}\n",
      "{'open_price': Decimal('229.9900'), 'close_price': Decimal('230.0000'), 'high_price': Decimal('230.0000'), 'low_price': Decimal('229.9750'), 'number_of_trades': None, 'volume': 90, 'volume_weighted_average': None, 'time': datetime.datetime(2024, 11, 22, 23, 33, tzinfo=<UTC>)}\n",
      "{'open_price': Decimal('230.0000'), 'close_price': Decimal('229.9900'), 'high_price': Decimal('230.0000'), 'low_price': Decimal('229.9500'), 'number_of_trades': None, 'volume': 30, 'volume_weighted_average': None, 'time': datetime.datetime(2024, 11, 22, 23, 32, tzinfo=<UTC>)}\n",
      "{'open_price': Decimal('229.9600'), 'close_price': Decimal('229.9900'), 'high_price': Decimal('229.9900'), 'low_price': Decimal('229.9500'), 'number_of_trades': None, 'volume': 121, 'volume_weighted_average': None, 'time': datetime.datetime(2024, 11, 22, 23, 31, tzinfo=<UTC>)}\n",
      "{'open_price': Decimal('229.9800'), 'close_price': Decimal('229.9512'), 'high_price': Decimal('229.9800'), 'low_price': Decimal('229.9512'), 'number_of_trades': None, 'volume': 20, 'volume_weighted_average': None, 'time': datetime.datetime(2024, 11, 22, 23, 30, tzinfo=<UTC>)}\n",
      "{'open_price': Decimal('229.9800'), 'close_price': Decimal('229.9750'), 'high_price': Decimal('230.0000'), 'low_price': Decimal('229.9500'), 'number_of_trades': None, 'volume': 13, 'volume_weighted_average': None, 'time': datetime.datetime(2024, 11, 22, 23, 29, tzinfo=<UTC>)}\n",
      "{'open_price': Decimal('229.9900'), 'close_price': Decimal('229.9750'), 'high_price': Decimal('230.0000'), 'low_price': Decimal('229.9500'), 'number_of_trades': None, 'volume': 76, 'volume_weighted_average': None, 'time': datetime.datetime(2024, 11, 22, 23, 28, tzinfo=<UTC>)}\n",
      "{'open_price': Decimal('229.9900'), 'close_price': Decimal('229.9900'), 'high_price': Decimal('230.0000'), 'low_price': Decimal('229.9800'), 'number_of_trades': None, 'volume': 149, 'volume_weighted_average': None, 'time': datetime.datetime(2024, 11, 22, 23, 27, tzinfo=<UTC>)}\n",
      "{'open_price': Decimal('230.0000'), 'close_price': Decimal('229.9900'), 'high_price': Decimal('230.0000'), 'low_price': Decimal('229.9800'), 'number_of_trades': None, 'volume': 34, 'volume_weighted_average': None, 'time': datetime.datetime(2024, 11, 22, 23, 26, tzinfo=<UTC>)}\n",
      "{'open_price': Decimal('229.9800'), 'close_price': Decimal('229.9800'), 'high_price': Decimal('230.0000'), 'low_price': Decimal('229.9800'), 'number_of_trades': None, 'volume': 17, 'volume_weighted_average': None, 'time': datetime.datetime(2024, 11, 22, 23, 25, tzinfo=<UTC>)}\n",
      "{'open_price': Decimal('229.9500'), 'close_price': Decimal('229.9800'), 'high_price': Decimal('229.9900'), 'low_price': Decimal('229.9100'), 'number_of_trades': None, 'volume': 1533, 'volume_weighted_average': None, 'time': datetime.datetime(2024, 11, 22, 23, 24, tzinfo=<UTC>)}\n",
      "{'open_price': Decimal('229.9450'), 'close_price': Decimal('229.9600'), 'high_price': Decimal('229.9800'), 'low_price': Decimal('229.9400'), 'number_of_trades': None, 'volume': 220, 'volume_weighted_average': None, 'time': datetime.datetime(2024, 11, 22, 23, 23, tzinfo=<UTC>)}\n",
      "{'open_price': Decimal('229.9100'), 'close_price': Decimal('229.9782'), 'high_price': Decimal('229.9782'), 'low_price': Decimal('229.9100'), 'number_of_trades': None, 'volume': 113, 'volume_weighted_average': None, 'time': datetime.datetime(2024, 11, 22, 23, 22, tzinfo=<UTC>)}\n",
      "{'open_price': Decimal('229.9100'), 'close_price': Decimal('229.9450'), 'high_price': Decimal('229.9450'), 'low_price': Decimal('229.9100'), 'number_of_trades': None, 'volume': 28, 'volume_weighted_average': None, 'time': datetime.datetime(2024, 11, 22, 23, 21, tzinfo=<UTC>)}\n",
      "{'open_price': Decimal('229.9100'), 'close_price': Decimal('229.9450'), 'high_price': Decimal('229.9450'), 'low_price': Decimal('229.9100'), 'number_of_trades': None, 'volume': 4, 'volume_weighted_average': None, 'time': datetime.datetime(2024, 11, 22, 23, 20, tzinfo=<UTC>)}\n"
     ]
    }
   ],
   "source": [
    "for timestamp_str in result.keys():\n",
    "    new_data=transform_alpha_vantage_result(timestamp_str,result.get(timestamp_str))\n",
    "    print(new_data)"
   ]
  }
 ],
 "metadata": {
  "kernelspec": {
   "display_name": "env",
   "language": "python",
   "name": "python3"
  },
  "language_info": {
   "codemirror_mode": {
    "name": "ipython",
    "version": 3
   },
   "file_extension": ".py",
   "mimetype": "text/x-python",
   "name": "python",
   "nbconvert_exporter": "python",
   "pygments_lexer": "ipython3",
   "version": "3.12.7"
  }
 },
 "nbformat": 4,
 "nbformat_minor": 5
}
